{
 "cells": [
  {
   "cell_type": "code",
   "execution_count": 1,
   "id": "b17c7aff-9700-42bf-b9bf-0a4be5bc1f91",
   "metadata": {
    "tags": []
   },
   "outputs": [
    {
     "name": "stderr",
     "output_type": "stream",
     "text": [
      "/var/folders/qw/t9kw6wr56yv7mb7ksjpk9p2w0000gn/T/ipykernel_46474/1788845193.py:5: DtypeWarning: Columns (4) have mixed types. Specify dtype option on import or set low_memory=False.\n",
      "  stations_df = pd.read_csv('stations.csv')\n",
      "/var/folders/qw/t9kw6wr56yv7mb7ksjpk9p2w0000gn/T/ipykernel_46474/1788845193.py:6: DtypeWarning: Columns (14) have mixed types. Specify dtype option on import or set low_memory=False.\n",
      "  measurements_df = pd.read_csv('measurements.csv')\n"
     ]
    }
   ],
   "source": [
    "import pandas as pd\n",
    "import sqlite3\n",
    "\n",
    "# Read data from CSV files\n",
    "stations_df = pd.read_csv('stations.csv')\n",
    "measurements_df = pd.read_csv('measurements.csv')\n",
    "\n",
    "# Merge data based on site_code\n",
    "merged_df = pd.merge(stations_df, measurements_df, on='site_code', how='inner')\n",
    "\n",
    "# Select and keep only the required columns\n",
    "merged_df = merged_df[['msmt_date', 'site_code', 'stn_id', 'latitude', 'longitude', 'gwe', 'gse_gwe', 'well_use']]\n",
    "\n",
    "# Create SQLite database\n",
    "conn = sqlite3.connect('merged_data.db')\n",
    "\n",
    "# Insert data into a table\n",
    "merged_df.to_sql('merged_data', conn, if_exists='replace', index=False)\n",
    "\n",
    "# Close the connection\n",
    "conn.close()\n"
   ]
  },
  {
   "cell_type": "code",
   "execution_count": null,
   "id": "9417bfb0-09a0-4412-9692-c49fd8a4a5e6",
   "metadata": {},
   "outputs": [],
   "source": []
  }
 ],
 "metadata": {
  "kernelspec": {
   "display_name": "Python 3 (ipykernel)",
   "language": "python",
   "name": "python3"
  },
  "language_info": {
   "codemirror_mode": {
    "name": "ipython",
    "version": 3
   },
   "file_extension": ".py",
   "mimetype": "text/x-python",
   "name": "python",
   "nbconvert_exporter": "python",
   "pygments_lexer": "ipython3",
   "version": "3.10.13"
  }
 },
 "nbformat": 4,
 "nbformat_minor": 5
}
